{
 "cells": [
  {
   "cell_type": "markdown",
   "metadata": {},
   "source": [
    "<h1 style=\"color: #005b5e;\">Randomness</h1>\n",
    "\n",
    "<hr style=\"border-top: 1px solid #005b5e;\" />\n",
    "\n",
    "\n",
    "In this notebook, you will learn randomness. Once you get to the end you should be able to:\n",
    "\n",
    "1. Generate (pseudo)random numbers.\n",
    "2. Plot lists of random numbers.\n",
    "3. Apply functions to random numbers.\n",
    "4. Theorize about the properties of random numbers."
   ]
  },
  {
   "cell_type": "markdown",
   "metadata": {},
   "source": [
    "<h2 style=\"color: #005b5e;;\">Random Number Generators</h2>\n",
    "\n",
    "<hr style=\"border-top: 1px solid #005b5e;\" />\n",
    "\n",
    "We will use <a href=\"https://numpy.org/\" style=\"color: #ff791e\">numpy</a> to generate random numbers."
   ]
  },
  {
   "cell_type": "code",
   "execution_count": 1,
   "metadata": {},
   "outputs": [],
   "source": [
    "import numpy as np"
   ]
  },
  {
   "cell_type": "markdown",
   "metadata": {},
   "source": [
    "<hr style=\"border-top: 1px solid rgb(0, 91, 94);\" />\n",
    "\n",
    "<h2 style=\"color: rgb(0, 91, 94);\">End</h2>"
   ]
  }
 ],
 "metadata": {
  "kernelspec": {
   "display_name": "Python 3 (ipykernel)",
   "language": "python",
   "name": "python3"
  },
  "language_info": {
   "codemirror_mode": {
    "name": "ipython",
    "version": 3
   },
   "file_extension": ".py",
   "mimetype": "text/x-python",
   "name": "python",
   "nbconvert_exporter": "python",
   "pygments_lexer": "ipython3",
   "version": "3.9.13"
  }
 },
 "nbformat": 4,
 "nbformat_minor": 4
}
